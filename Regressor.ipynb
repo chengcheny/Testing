{
  "nbformat": 4,
  "nbformat_minor": 0,
  "metadata": {
    "colab": {
      "name": "Regressor.ipynb",
      "version": "0.3.2",
      "provenance": [],
      "collapsed_sections": [],
      "include_colab_link": true
    },
    "kernelspec": {
      "name": "python3",
      "display_name": "Python 3"
    }
  },
  "cells": [
    {
      "cell_type": "markdown",
      "metadata": {
        "id": "view-in-github",
        "colab_type": "text"
      },
      "source": [
        "<a href=\"https://colab.research.google.com/github/chengcheny/Testing/blob/master/Regressor.ipynb\" target=\"_parent\"><img src=\"https://colab.research.google.com/assets/colab-badge.svg\" alt=\"Open In Colab\"/></a>"
      ]
    },
    {
      "cell_type": "markdown",
      "metadata": {
        "id": "Xu92DOiPgA5z",
        "colab_type": "text"
      },
      "source": [
        "# Regressor by Keras \n"
      ]
    },
    {
      "cell_type": "markdown",
      "metadata": {
        "id": "humSev0ChL4M",
        "colab_type": "text"
      },
      "source": [
        "## import libraries\n"
      ]
    },
    {
      "cell_type": "code",
      "metadata": {
        "id": "nSv1huC_gI4H",
        "colab_type": "code",
        "colab": {}
      },
      "source": [
        "import numpy as np\n",
        "np.random.seed(1337) # for reproducibility\n",
        "from keras.models import Sequential\n",
        "from keras.layers import Dense\n",
        "import matplotlib.pyplot as plt"
      ],
      "execution_count": 0,
      "outputs": []
    },
    {
      "cell_type": "markdown",
      "metadata": {
        "id": "Lfr7vUa7hIYO",
        "colab_type": "text"
      },
      "source": [
        "## creat some data"
      ]
    },
    {
      "cell_type": "code",
      "metadata": {
        "id": "6NQkybOphW1H",
        "colab_type": "code",
        "colab": {
          "base_uri": "https://localhost:8080/",
          "height": 269
        },
        "outputId": "a0aa1a3d-b87a-460a-be69-bc4397f0029f"
      },
      "source": [
        "X = np.linspace(-1,1,200)\n",
        "np.random.shuffle(X) # randomize the data\n",
        "Y = 0.5 * X + np.random.normal(0,0.05,(200,))\n",
        "plt.scatter(X,Y)  #plot data\n",
        "plt.show()"
      ],
      "execution_count": 24,
      "outputs": [
        {
          "output_type": "display_data",
          "data": {
            "image/png": "[encoded data removed]",
            "text/plain": [
              "<Figure size 432x288 with 1 Axes>"
            ]
          },
          "metadata": {
            "tags": []
          }
        }
      ]
    },
    {
      "cell_type": "markdown",
      "metadata": {
        "id": "bK-vsyQNi_aF",
        "colab_type": "text"
      },
      "source": [
        "## build the model"
      ]
    },
    {
      "cell_type": "code",
      "metadata": {
        "id": "qrAjDn61iUJX",
        "colab_type": "code",
        "colab": {}
      },
      "source": [
        "X_train, Y_train = X[:160], Y[:160] #train front 160 data points\n",
        "X_test, Y_test = X[160:], Y[160:]  #test raw 40 data points\n",
        "model = Sequential()\n",
        "model.add(Dense(units=1,input_dim=1))"
      ],
      "execution_count": 0,
      "outputs": []
    },
    {
      "cell_type": "markdown",
      "metadata": {
        "id": "Mks3k8g9jCfQ",
        "colab_type": "text"
      },
      "source": [
        "## active the model"
      ]
    },
    {
      "cell_type": "code",
      "metadata": {
        "id": "B3PjZPUyjEw-",
        "colab_type": "code",
        "colab": {}
      },
      "source": [
        "model.compile(optimizer='sgd',loss='mse')"
      ],
      "execution_count": 0,
      "outputs": []
    },
    {
      "cell_type": "markdown",
      "metadata": {
        "id": "zNGiz1ZyjdSu",
        "colab_type": "text"
      },
      "source": [
        "## training "
      ]
    },
    {
      "cell_type": "code",
      "metadata": {
        "id": "E6kr8Znyjf37",
        "colab_type": "code",
        "colab": {}
      },
      "source": [
        "#\n",
        "'''\n",
        "print('Training---------')\n",
        "for step in range(301):\n",
        "  cost = model.train_on_batch(X_train,Y_train)\n",
        "  if step % 100 ==0:\n",
        "    print('train cost:', cost)\n",
        "'''\n",
        "cost = model.train_on_batch(X_train,Y_train)"
      ],
      "execution_count": 0,
      "outputs": []
    },
    {
      "cell_type": "code",
      "metadata": {
        "id": "4qsOfRN1mKKH",
        "colab_type": "code",
        "colab": {}
      },
      "source": [
        ""
      ],
      "execution_count": 0,
      "outputs": []
    },
    {
      "cell_type": "markdown",
      "metadata": {
        "id": "IoLLeUjDj3Od",
        "colab_type": "text"
      },
      "source": [
        "## evalute\n"
      ]
    },
    {
      "cell_type": "code",
      "metadata": {
        "id": "wTTQpLq8j6sF",
        "colab_type": "code",
        "colab": {
          "base_uri": "https://localhost:8080/",
          "height": 118
        },
        "outputId": "42ad8a89-8bdc-444e-8213-2b48255e0dfb"
      },
      "source": [
        "print('\\nTesting-------')\n",
        "cost = model.evaluate(X_test,Y_test,batch_size = 40)\n",
        "print('test cost:',cost)\n",
        "W, b= model.layers[0].get_weights()\n",
        "print('Weights=',W,'\\nbiases=',b)\n",
        "\n"
      ],
      "execution_count": 33,
      "outputs": [
        {
          "output_type": "stream",
          "text": [
            "\n",
            "Testing-------\n",
            "\r40/40 [==============================] - 0s 99us/step\n",
            "test cost: 0.0033001687843352556\n",
            "Weights= [[0.49754673]] \n",
            "biases= [0.00417925]\n"
          ],
          "name": "stdout"
        }
      ]
    },
    {
      "cell_type": "markdown",
      "metadata": {
        "id": "cEgGgSiVkf3y",
        "colab_type": "text"
      },
      "source": [
        "##Plotting the prediciton"
      ]
    },
    {
      "cell_type": "code",
      "metadata": {
        "id": "2HYjZRTlkiq1",
        "colab_type": "code",
        "colab": {
          "base_uri": "https://localhost:8080/",
          "height": 269
        },
        "outputId": "72f4fa94-0923-4d15-d3b2-82b8b6d3fa4e"
      },
      "source": [
        "Y_pred = model.predict(X_test)\n",
        "plt.scatter(X_test,Y_test)\n",
        "plt.plot(X_test,Y_pred)\n",
        "plt.show()"
      ],
      "execution_count": 29,
      "outputs": [
        {
          "output_type": "display_data",
          "data": {
            "image/png": "[encoded data removed]",
            "text/plain": [
              "<Figure size 432x288 with 1 Axes>"
            ]
          },
          "metadata": {
            "tags": []
          }
        }
      ]
    }
  ]
}