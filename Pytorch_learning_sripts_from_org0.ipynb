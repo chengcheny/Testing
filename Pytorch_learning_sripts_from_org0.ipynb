{
  "nbformat": 4,
  "nbformat_minor": 0,
  "metadata": {
    "colab": {
      "name": "Pytorch_learning_sripts_from_org.ipynb",
      "version": "0.3.2",
      "provenance": [],
      "include_colab_link": true
    },
    "kernelspec": {
      "name": "python3",
      "display_name": "Python 3"
    }
  },
  "cells": [
    {
      "cell_type": "markdown",
      "metadata": {
        "id": "view-in-github",
        "colab_type": "text"
      },
      "source": [
        "<a href=\"https://colab.research.google.com/github/chengcheny/Testing/blob/master/Pytorch_learning_sripts_from_org0.ipynb\" target=\"_parent\"><img src=\"https://colab.research.google.com/assets/colab-badge.svg\" alt=\"Open In Colab\"/></a>"
      ]
    },
    {
      "cell_type": "code",
      "metadata": {
        "id": "hLVYOjvCoKiN",
        "colab_type": "code",
        "colab": {}
      },
      "source": [
        "import torch"
      ],
      "execution_count": 0,
      "outputs": []
    },
    {
      "cell_type": "code",
      "metadata": {
        "id": "TYX6FnqQoelP",
        "colab_type": "code",
        "colab": {
          "base_uri": "https://localhost:8080/",
          "height": 101
        },
        "outputId": "c5117c5b-3208-4d5f-8a0c-75c5a61eece6"
      },
      "source": [
        "x = torch.empty(5,3)\n",
        "print(x)"
      ],
      "execution_count": 2,
      "outputs": [
        {
          "output_type": "stream",
          "text": [
            "tensor([[4.6784e-36, 0.0000e+00, 3.3631e-44],\n",
            "        [0.0000e+00,        nan, 0.0000e+00],\n",
            "        [1.1578e+27, 1.1362e+30, 7.1547e+22],\n",
            "        [4.5828e+30, 1.2121e+04, 7.1846e+22],\n",
            "        [9.2198e-39, 0.0000e+00, 0.0000e+00]])\n"
          ],
          "name": "stdout"
        }
      ]
    },
    {
      "cell_type": "code",
      "metadata": {
        "id": "hiwvVeoeokiA",
        "colab_type": "code",
        "colab": {
          "base_uri": "https://localhost:8080/",
          "height": 101
        },
        "outputId": "47046153-d0a6-4011-d080-55093d248f6b"
      },
      "source": [
        "x = torch.rand(5, 5)\n",
        "print(x)"
      ],
      "execution_count": 3,
      "outputs": [
        {
          "output_type": "stream",
          "text": [
            "tensor([[0.7960, 0.7604, 0.4896, 0.6109, 0.9151],\n",
            "        [0.9137, 0.9093, 0.8970, 0.9979, 0.7056],\n",
            "        [0.4532, 0.2321, 0.0654, 0.0290, 0.7598],\n",
            "        [0.7765, 0.5576, 0.3853, 0.5745, 0.1015],\n",
            "        [0.8720, 0.0909, 0.4802, 0.5832, 0.1138]])\n"
          ],
          "name": "stdout"
        }
      ]
    },
    {
      "cell_type": "code",
      "metadata": {
        "id": "gQci8WbSoocS",
        "colab_type": "code",
        "colab": {
          "base_uri": "https://localhost:8080/",
          "height": 101
        },
        "outputId": "0ef7437c-8aa4-4bd7-d754-7650c9fde4f8"
      },
      "source": [
        "x = torch.zeros(5 ,3, dtype=torch.long)\n",
        "print(x)"
      ],
      "execution_count": 6,
      "outputs": [
        {
          "output_type": "stream",
          "text": [
            "tensor([[0, 0, 0],\n",
            "        [0, 0, 0],\n",
            "        [0, 0, 0],\n",
            "        [0, 0, 0],\n",
            "        [0, 0, 0]])\n"
          ],
          "name": "stdout"
        }
      ]
    },
    {
      "cell_type": "code",
      "metadata": {
        "id": "PhHMVI3ooxBv",
        "colab_type": "code",
        "colab": {
          "base_uri": "https://localhost:8080/",
          "height": 34
        },
        "outputId": "005f98c6-6322-4a1a-c742-a1fc7d5850ed"
      },
      "source": [
        "x = torch.tensor([5, 5, 3])\n",
        "print(x)"
      ],
      "execution_count": 7,
      "outputs": [
        {
          "output_type": "stream",
          "text": [
            "tensor([5, 5, 3])\n"
          ],
          "name": "stdout"
        }
      ]
    },
    {
      "cell_type": "code",
      "metadata": {
        "id": "8YCyf2OkpZ_D",
        "colab_type": "code",
        "colab": {
          "base_uri": "https://localhost:8080/",
          "height": 101
        },
        "outputId": "64ed19f9-d2d5-4856-9522-43db5e7a6022"
      },
      "source": [
        "x = x.new_ones(5, 3, dtype=torch.double)\n",
        "print(x)"
      ],
      "execution_count": 10,
      "outputs": [
        {
          "output_type": "stream",
          "text": [
            "tensor([[1., 1., 1.],\n",
            "        [1., 1., 1.],\n",
            "        [1., 1., 1.],\n",
            "        [1., 1., 1.],\n",
            "        [1., 1., 1.]], dtype=torch.float64)\n"
          ],
          "name": "stdout"
        }
      ]
    },
    {
      "cell_type": "code",
      "metadata": {
        "id": "wUrhFiHOpmKF",
        "colab_type": "code",
        "colab": {
          "base_uri": "https://localhost:8080/",
          "height": 101
        },
        "outputId": "dc71cc87-21d6-47ed-ed10-d950dfd05de0"
      },
      "source": [
        "x = torch.randn_like(x, dtype=torch.float)\n",
        "print(x)"
      ],
      "execution_count": 13,
      "outputs": [
        {
          "output_type": "stream",
          "text": [
            "tensor([[ 0.6049,  1.1499, -0.1561],\n",
            "        [-0.8737,  1.3926,  1.1809],\n",
            "        [ 1.0817,  1.1583, -0.2107],\n",
            "        [ 0.7588, -1.1396,  0.0434],\n",
            "        [ 0.0686,  0.1317, -0.2106]])\n"
          ],
          "name": "stdout"
        }
      ]
    },
    {
      "cell_type": "code",
      "metadata": {
        "id": "mjjtoGPCqld3",
        "colab_type": "code",
        "colab": {
          "base_uri": "https://localhost:8080/",
          "height": 34
        },
        "outputId": "3f832f01-ad1a-4cdc-a96c-cb8f984930ce"
      },
      "source": [
        "print(x.size())"
      ],
      "execution_count": 17,
      "outputs": [
        {
          "output_type": "stream",
          "text": [
            "torch.Size([5, 3])\n"
          ],
          "name": "stdout"
        }
      ]
    },
    {
      "cell_type": "code",
      "metadata": {
        "id": "xasKzGfrqu2N",
        "colab_type": "code",
        "colab": {
          "base_uri": "https://localhost:8080/",
          "height": 101
        },
        "outputId": "b31bbb91-e466-4092-fd4a-cc2840a43d17"
      },
      "source": [
        "y = torch.rand(5, 3)\n",
        "print(x + y)"
      ],
      "execution_count": 18,
      "outputs": [
        {
          "output_type": "stream",
          "text": [
            "tensor([[ 1.5574e+00,  1.2863e+00,  4.1639e-02],\n",
            "        [-7.1847e-01,  1.4109e+00,  1.6322e+00],\n",
            "        [ 1.3728e+00,  1.4410e+00,  4.2229e-02],\n",
            "        [ 8.4102e-01, -9.0374e-01,  2.4062e-01],\n",
            "        [ 6.7551e-01,  9.2889e-01, -6.6803e-04]])\n"
          ],
          "name": "stdout"
        }
      ]
    },
    {
      "cell_type": "code",
      "metadata": {
        "id": "EkrlZtG7qy42",
        "colab_type": "code",
        "colab": {
          "base_uri": "https://localhost:8080/",
          "height": 269
        },
        "outputId": "2b869f34-9ee8-41a4-dcee-2e6810d4c4fe"
      },
      "source": [
        "print(x)\n",
        "print(y)\n",
        "print(torch.add(x,y))"
      ],
      "execution_count": 20,
      "outputs": [
        {
          "output_type": "stream",
          "text": [
            "tensor([[ 0.6049,  1.1499, -0.1561],\n",
            "        [-0.8737,  1.3926,  1.1809],\n",
            "        [ 1.0817,  1.1583, -0.2107],\n",
            "        [ 0.7588, -1.1396,  0.0434],\n",
            "        [ 0.0686,  0.1317, -0.2106]])\n",
            "tensor([[0.9525, 0.1364, 0.1977],\n",
            "        [0.1552, 0.0184, 0.4513],\n",
            "        [0.2911, 0.2827, 0.2529],\n",
            "        [0.0822, 0.2359, 0.1973],\n",
            "        [0.6069, 0.7972, 0.2100]])\n",
            "tensor([[ 1.5574e+00,  1.2863e+00,  4.1639e-02],\n",
            "        [-7.1847e-01,  1.4109e+00,  1.6322e+00],\n",
            "        [ 1.3728e+00,  1.4410e+00,  4.2229e-02],\n",
            "        [ 8.4102e-01, -9.0374e-01,  2.4062e-01],\n",
            "        [ 6.7551e-01,  9.2889e-01, -6.6803e-04]])\n"
          ],
          "name": "stdout"
        }
      ]
    },
    {
      "cell_type": "code",
      "metadata": {
        "id": "Ybq88EAUrNW7",
        "colab_type": "code",
        "colab": {
          "base_uri": "https://localhost:8080/",
          "height": 101
        },
        "outputId": "977be460-a177-4e24-c2c5-4cc43de47266"
      },
      "source": [
        "result = torch.empty(5,3)\n",
        "torch.add(x, y, out=result)\n",
        "print(result)"
      ],
      "execution_count": 24,
      "outputs": [
        {
          "output_type": "stream",
          "text": [
            "tensor([[ 1.5574e+00,  1.2863e+00,  4.1639e-02],\n",
            "        [-7.1847e-01,  1.4109e+00,  1.6322e+00],\n",
            "        [ 1.3728e+00,  1.4410e+00,  4.2229e-02],\n",
            "        [ 8.4102e-01, -9.0374e-01,  2.4062e-01],\n",
            "        [ 6.7551e-01,  9.2889e-01, -6.6803e-04]])\n"
          ],
          "name": "stdout"
        }
      ]
    },
    {
      "cell_type": "code",
      "metadata": {
        "id": "l7mCI5xbriqC",
        "colab_type": "code",
        "colab": {
          "base_uri": "https://localhost:8080/",
          "height": 101
        },
        "outputId": "b0367f33-c2fd-4204-a629-a5d575944a82"
      },
      "source": [
        "y.add_(x)\n",
        "print(y)"
      ],
      "execution_count": 25,
      "outputs": [
        {
          "output_type": "stream",
          "text": [
            "tensor([[ 1.5574e+00,  1.2863e+00,  4.1639e-02],\n",
            "        [-7.1847e-01,  1.4109e+00,  1.6322e+00],\n",
            "        [ 1.3728e+00,  1.4410e+00,  4.2229e-02],\n",
            "        [ 8.4102e-01, -9.0374e-01,  2.4062e-01],\n",
            "        [ 6.7551e-01,  9.2889e-01, -6.6803e-04]])\n"
          ],
          "name": "stdout"
        }
      ]
    },
    {
      "cell_type": "code",
      "metadata": {
        "id": "51twOba6r2Qh",
        "colab_type": "code",
        "colab": {
          "base_uri": "https://localhost:8080/",
          "height": 118
        },
        "outputId": "2598391d-c24d-4294-aae1-27ff1d38234c"
      },
      "source": [
        "print(x[:, 1])\n",
        "print(x)"
      ],
      "execution_count": 27,
      "outputs": [
        {
          "output_type": "stream",
          "text": [
            "tensor([ 1.1499,  1.3926,  1.1583, -1.1396,  0.1317])\n",
            "tensor([[ 0.6049,  1.1499, -0.1561],\n",
            "        [-0.8737,  1.3926,  1.1809],\n",
            "        [ 1.0817,  1.1583, -0.2107],\n",
            "        [ 0.7588, -1.1396,  0.0434],\n",
            "        [ 0.0686,  0.1317, -0.2106]])\n"
          ],
          "name": "stdout"
        }
      ]
    },
    {
      "cell_type": "code",
      "metadata": {
        "id": "NiyaukAusIk8",
        "colab_type": "code",
        "colab": {
          "base_uri": "https://localhost:8080/",
          "height": 50
        },
        "outputId": "ee426842-5d9e-4df5-ae80-1d4812ccd3f3"
      },
      "source": [
        "x = torch.randn(1)\n",
        "print(x)\n",
        "print(x.item())"
      ],
      "execution_count": 30,
      "outputs": [
        {
          "output_type": "stream",
          "text": [
            "tensor([0.3438])\n",
            "0.343763142824173\n"
          ],
          "name": "stdout"
        }
      ]
    },
    {
      "cell_type": "code",
      "metadata": {
        "id": "sG2JEeoJsY-z",
        "colab_type": "code",
        "colab": {
          "base_uri": "https://localhost:8080/",
          "height": 34
        },
        "outputId": "81e89879-bd9c-469e-b55a-3aa6ac8f7496"
      },
      "source": [
        "a = torch.ones(5)\n",
        "print(a)"
      ],
      "execution_count": 39,
      "outputs": [
        {
          "output_type": "stream",
          "text": [
            "tensor([1., 1., 1., 1., 1.])\n"
          ],
          "name": "stdout"
        }
      ]
    },
    {
      "cell_type": "code",
      "metadata": {
        "id": "Pk5XLYOSsb6C",
        "colab_type": "code",
        "colab": {
          "base_uri": "https://localhost:8080/",
          "height": 34
        },
        "outputId": "d257ee92-cb8a-4ae2-c5e5-bed5c4875590"
      },
      "source": [
        "b=a.numpy()\n",
        "print(b)"
      ],
      "execution_count": 40,
      "outputs": [
        {
          "output_type": "stream",
          "text": [
            "[1. 1. 1. 1. 1.]\n"
          ],
          "name": "stdout"
        }
      ]
    },
    {
      "cell_type": "code",
      "metadata": {
        "id": "_UI0ZxgGstK2",
        "colab_type": "code",
        "colab": {
          "base_uri": "https://localhost:8080/",
          "height": 50
        },
        "outputId": "8a08a5b5-5d61-4959-8f32-1194b0cea4f7"
      },
      "source": [
        "a.add_(1)\n",
        "print(a)\n",
        "print(b)"
      ],
      "execution_count": 41,
      "outputs": [
        {
          "output_type": "stream",
          "text": [
            "tensor([2., 2., 2., 2., 2.])\n",
            "[2. 2. 2. 2. 2.]\n"
          ],
          "name": "stdout"
        }
      ]
    }
  ]
}