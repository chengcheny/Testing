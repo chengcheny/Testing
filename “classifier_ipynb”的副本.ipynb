{
  "nbformat": 4,
  "nbformat_minor": 0,
  "metadata": {
    "colab": {
      "name": "“classifier.ipynb”的副本",
      "version": "0.3.2",
      "provenance": [],
      "include_colab_link": true
    },
    "kernelspec": {
      "name": "python3",
      "display_name": "Python 3"
    }
  },
  "cells": [
    {
      "cell_type": "markdown",
      "metadata": {
        "id": "view-in-github",
        "colab_type": "text"
      },
      "source": [
        "<a href=\"https://colab.research.google.com/github/chengcheny/Testing/blob/master/%E2%80%9Cclassifier_ipynb%E2%80%9D%E7%9A%84%E5%89%AF%E6%9C%AC.ipynb\" target=\"_parent\"><img src=\"https://colab.research.google.com/assets/colab-badge.svg\" alt=\"Open In Colab\"/></a>"
      ]
    },
    {
      "cell_type": "markdown",
      "metadata": {
        "id": "DOmmux7Z9F-w",
        "colab_type": "text"
      },
      "source": [
        "#Classifier"
      ]
    },
    {
      "cell_type": "code",
      "metadata": {
        "id": "f7MF0hn09KeZ",
        "colab_type": "code",
        "colab": {}
      },
      "source": [
        "import numpy as np\n",
        "from keras.datasets import mnist\n",
        "from keras.utils import np_utils\n",
        "from keras.models import Sequential\n",
        "from keras.layers import Dense, Activation\n",
        "from keras.optimizers import RMSprop\n",
        "np.random.seed(1337)"
      ],
      "execution_count": 0,
      "outputs": []
    },
    {
      "cell_type": "code",
      "metadata": {
        "id": "Oi0Krqqm-6Ar",
        "colab_type": "code",
        "colab": {}
      },
      "source": [
        "#data pre-processing\n",
        "X_train = X_train.reshape(X_train.shape[0], -1) /255 # normalize\n",
        "X_test = X_test.reshape(X_test.shape[0], -1)/255 # normalize\n",
        "Y_train = np_utils.to_categorical(Y_train, num_classes=10)\n",
        "Y_test = np_utils.to_categorical(Y_test, num_classes=10)"
      ],
      "execution_count": 0,
      "outputs": []
    },
    {
      "cell_type": "code",
      "metadata": {
        "id": "TwdC77V3-5eY",
        "colab_type": "code",
        "colab": {}
      },
      "source": [
        "#data pre-processing\n",
        "X_train = X_train.reshape(X_train.shape[0], -1) /255 # normalize\n",
        "X_test = X_test.reshape(X_test.shape[0], -1)/255 # normalize\n",
        "Y_train = np_utils.to_categorical(Y_train, num_classes=10)\n",
        "Y_test = np_utils.to_categorical(Y_test, num_classes=10)"
      ],
      "execution_count": 0,
      "outputs": []
    },
    {
      "cell_type": "code",
      "metadata": {
        "id": "BkITUqbg-8xc",
        "colab_type": "code",
        "colab": {}
      },
      "source": [
        "# build the neural net\n",
        "model = Sequential(\n",
        "    Dense(32, input_dim=784),\n",
        "    Activation('relu')\n",
        "    Dense(10),\n",
        "    Activation('softmax')\n",
        ")"
      ],
      "execution_count": 0,
      "outputs": []
    },
    {
      "cell_type": "code",
      "metadata": {
        "id": "sBv5Uxbo_jWj",
        "colab_type": "code",
        "colab": {}
      },
      "source": [
        "# define the optimizer\n",
        "rmsprop = RMSprop(lr=0.001, rho=0.9, epsilon=1-8, decay=0.0)"
      ],
      "execution_count": 0,
      "outputs": []
    },
    {
      "cell_type": "code",
      "metadata": {
        "id": "vBpvoze9_ug5",
        "colab_type": "code",
        "colab": {}
      },
      "source": [
        "# get more results you want to see\n",
        "model.comile(optimer=rmsprop,\n",
        "      loss='categorical_crossentropy',\n",
        "      metrics=['accuracy']\n",
        "      )\n",
        "\n",
        "print('Training----------')"
      ],
      "execution_count": 0,
      "outputs": []
    },
    {
      "cell_type": "code",
      "metadata": {
        "id": "OOiNEDxvADbw",
        "colab_type": "code",
        "colab": {}
      },
      "source": [
        "# train the model\n",
        "model.fit(X_train, Y_train, epochs=2, batch_size=32)"
      ],
      "execution_count": 0,
      "outputs": []
    },
    {
      "cell_type": "code",
      "metadata": {
        "id": "k8q18Y_PANC-",
        "colab_type": "code",
        "colab": {}
      },
      "source": [
        "# Test the model\n",
        "print('\\nTesting--------')\n",
        "loss, accuracy = model.evaluate(X_test,Y_test)\n",
        "\n",
        "print('test loss:', loss)\n",
        "print('test accuracy:', accuracy)"
      ],
      "execution_count": 0,
      "outputs": []
    }
  ]
}